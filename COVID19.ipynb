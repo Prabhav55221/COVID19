{
 "cells": [
  {
   "cell_type": "markdown",
   "metadata": {},
   "source": [
    "# Importing Libraries and Loading Data"
   ]
  },
  {
   "cell_type": "markdown",
   "metadata": {},
   "source": [
    "2019 Novel Coronavirus (2019-nCoV) is a virus (more specifically, a coronavirus) identified as the cause of an outbreak of respiratory illness first detected in Wuhan, China. Early on, many of the patients in the outbreak in Wuhan, China reportedly had some link to a large seafood and animal market, suggesting animal-to-person spread. However, a growing number of patients reportedly have not had exposure to animal markets, indicating person-to-person spread is occurring. At this time, it’s unclear how easily or sustainably this virus is spreading between people - CDC\n",
    "\n",
    "This dataset has daily level information on the number of affected cases, deaths and recovery from 2019 novel coronavirus. Please note that this is a time series data and so the number of cases on any given day is the cumulative number.\n",
    "\n",
    "The data is available from 22 Jan, 2020."
   ]
  },
  {
   "cell_type": "code",
   "execution_count": 1,
   "metadata": {},
   "outputs": [],
   "source": [
    "import pandas as pd\n",
    "import numpy as np\n",
    "\n",
    "pd.plotting.register_matplotlib_converters()\n",
    "import matplotlib.pyplot as plt\n",
    "%matplotlib inline\n",
    "import seaborn as sns\n",
    "\n",
    "from sklearn.model_selection import train_test_split\n",
    "from sklearn.metrics import classification_report\n",
    "from sklearn.model_selection import GridSearchCV\n",
    "\n",
    "from sklearn.preprocessing import MinMaxScaler"
   ]
  },
  {
   "cell_type": "code",
   "execution_count": 2,
   "metadata": {},
   "outputs": [],
   "source": [
    "df = pd.read_csv(\"COVID19_line_list_data.csv\", index_col = \"id\")"
   ]
  },
  {
   "cell_type": "code",
   "execution_count": 3,
   "metadata": {},
   "outputs": [],
   "source": [
    "del df[\"case_in_country\"]\n",
    "del df['Unnamed: 3']\n",
    "del df[\"location\"]\n",
    "del df[\"If_onset_approximated\"]\n",
    "del df['hosp_visit_date']\n",
    "del df[\"symptom\"]\n",
    "del df[\"source\"]\n",
    "del df[\"link\"]"
   ]
  },
  {
   "cell_type": "code",
   "execution_count": 4,
   "metadata": {},
   "outputs": [],
   "source": [
    "del df['Unnamed: 21']\n",
    "del df['Unnamed: 22']\n",
    "del df['Unnamed: 23']\n",
    "del df['Unnamed: 24']\n",
    "del df['Unnamed: 25']\n",
    "del df['Unnamed: 26']"
   ]
  },
  {
   "cell_type": "code",
   "execution_count": 5,
   "metadata": {},
   "outputs": [],
   "source": [
    "del df[\"summary\"]"
   ]
  },
  {
   "cell_type": "code",
   "execution_count": 6,
   "metadata": {},
   "outputs": [
    {
     "data": {
      "text/html": [
       "<div>\n",
       "<style scoped>\n",
       "    .dataframe tbody tr th:only-of-type {\n",
       "        vertical-align: middle;\n",
       "    }\n",
       "\n",
       "    .dataframe tbody tr th {\n",
       "        vertical-align: top;\n",
       "    }\n",
       "\n",
       "    .dataframe thead th {\n",
       "        text-align: right;\n",
       "    }\n",
       "</style>\n",
       "<table border=\"1\" class=\"dataframe\">\n",
       "  <thead>\n",
       "    <tr style=\"text-align: right;\">\n",
       "      <th></th>\n",
       "      <th>reporting date</th>\n",
       "      <th>country</th>\n",
       "      <th>gender</th>\n",
       "      <th>age</th>\n",
       "      <th>symptom_onset</th>\n",
       "      <th>exposure_start</th>\n",
       "      <th>exposure_end</th>\n",
       "      <th>visiting Wuhan</th>\n",
       "      <th>from Wuhan</th>\n",
       "      <th>death</th>\n",
       "      <th>recovered</th>\n",
       "    </tr>\n",
       "    <tr>\n",
       "      <th>id</th>\n",
       "      <th></th>\n",
       "      <th></th>\n",
       "      <th></th>\n",
       "      <th></th>\n",
       "      <th></th>\n",
       "      <th></th>\n",
       "      <th></th>\n",
       "      <th></th>\n",
       "      <th></th>\n",
       "      <th></th>\n",
       "      <th></th>\n",
       "    </tr>\n",
       "  </thead>\n",
       "  <tbody>\n",
       "    <tr>\n",
       "      <th>1</th>\n",
       "      <td>1/20/2020</td>\n",
       "      <td>China</td>\n",
       "      <td>male</td>\n",
       "      <td>66.0</td>\n",
       "      <td>01/03/20</td>\n",
       "      <td>12/29/2019</td>\n",
       "      <td>01/04/20</td>\n",
       "      <td>1</td>\n",
       "      <td>0.0</td>\n",
       "      <td>0</td>\n",
       "      <td>0</td>\n",
       "    </tr>\n",
       "    <tr>\n",
       "      <th>2</th>\n",
       "      <td>1/20/2020</td>\n",
       "      <td>China</td>\n",
       "      <td>female</td>\n",
       "      <td>56.0</td>\n",
       "      <td>1/15/2020</td>\n",
       "      <td>NaN</td>\n",
       "      <td>01/12/20</td>\n",
       "      <td>0</td>\n",
       "      <td>1.0</td>\n",
       "      <td>0</td>\n",
       "      <td>0</td>\n",
       "    </tr>\n",
       "    <tr>\n",
       "      <th>3</th>\n",
       "      <td>1/21/2020</td>\n",
       "      <td>China</td>\n",
       "      <td>male</td>\n",
       "      <td>46.0</td>\n",
       "      <td>01/04/20</td>\n",
       "      <td>NaN</td>\n",
       "      <td>01/03/20</td>\n",
       "      <td>0</td>\n",
       "      <td>1.0</td>\n",
       "      <td>0</td>\n",
       "      <td>0</td>\n",
       "    </tr>\n",
       "    <tr>\n",
       "      <th>4</th>\n",
       "      <td>1/21/2020</td>\n",
       "      <td>China</td>\n",
       "      <td>female</td>\n",
       "      <td>60.0</td>\n",
       "      <td>NaN</td>\n",
       "      <td>NaN</td>\n",
       "      <td>NaN</td>\n",
       "      <td>1</td>\n",
       "      <td>0.0</td>\n",
       "      <td>0</td>\n",
       "      <td>0</td>\n",
       "    </tr>\n",
       "    <tr>\n",
       "      <th>5</th>\n",
       "      <td>1/21/2020</td>\n",
       "      <td>China</td>\n",
       "      <td>male</td>\n",
       "      <td>58.0</td>\n",
       "      <td>NaN</td>\n",
       "      <td>NaN</td>\n",
       "      <td>NaN</td>\n",
       "      <td>0</td>\n",
       "      <td>0.0</td>\n",
       "      <td>0</td>\n",
       "      <td>0</td>\n",
       "    </tr>\n",
       "  </tbody>\n",
       "</table>\n",
       "</div>"
      ],
      "text/plain": [
       "   reporting date country  gender   age symptom_onset exposure_start  \\\n",
       "id                                                                     \n",
       "1       1/20/2020   China    male  66.0      01/03/20     12/29/2019   \n",
       "2       1/20/2020   China  female  56.0     1/15/2020            NaN   \n",
       "3       1/21/2020   China    male  46.0      01/04/20            NaN   \n",
       "4       1/21/2020   China  female  60.0           NaN            NaN   \n",
       "5       1/21/2020   China    male  58.0           NaN            NaN   \n",
       "\n",
       "   exposure_end  visiting Wuhan  from Wuhan death recovered  \n",
       "id                                                           \n",
       "1      01/04/20               1         0.0     0         0  \n",
       "2      01/12/20               0         1.0     0         0  \n",
       "3      01/03/20               0         1.0     0         0  \n",
       "4           NaN               1         0.0     0         0  \n",
       "5           NaN               0         0.0     0         0  "
      ]
     },
     "execution_count": 6,
     "metadata": {},
     "output_type": "execute_result"
    }
   ],
   "source": [
    "df.head()"
   ]
  },
  {
   "cell_type": "markdown",
   "metadata": {},
   "source": [
    "# Data Cleaning"
   ]
  },
  {
   "cell_type": "code",
   "execution_count": 7,
   "metadata": {},
   "outputs": [],
   "source": [
    "def gender(str):\n",
    "    if str == \"male\":\n",
    "        return 1\n",
    "    else:\n",
    "        return 2\n",
    "    \n",
    "df[\"gender\"] = df[\"gender\"].apply(gender)"
   ]
  },
  {
   "cell_type": "code",
   "execution_count": 8,
   "metadata": {},
   "outputs": [],
   "source": [
    "def location(str):\n",
    "    if str == \"Afghanistan\":\n",
    "        return 1\n",
    "    elif str == \"Algeria\":\n",
    "        return 2\n",
    "    elif str == \"Australia\":\n",
    "        return 3\n",
    "    elif str == \"Austria\":\n",
    "        return 4\n",
    "    elif str == \"Cambodia\":\n",
    "        return 5\n",
    "    elif str == \"Bahrain\":\n",
    "        return 6\n",
    "    elif str == \"Belgium\":\n",
    "        return 7\n",
    "    elif str == \"Canada\":\n",
    "        return 8\n",
    "    elif str == \"China\":\n",
    "        return 9\n",
    "    elif str == \"Croatia\":\n",
    "        return 10\n",
    "    elif str == \"Egypt\":\n",
    "        return 11\n",
    "    elif str == \"France\":\n",
    "        return 12\n",
    "    elif str == \"Germany\":\n",
    "        return 13\n",
    "    elif str == \"Hong Kong\":\n",
    "        return 14\n",
    "    elif str == \"India\":\n",
    "        return 15\n",
    "    elif str == \"Israel\":\n",
    "        return 16\n",
    "    elif str == \"Iran\":\n",
    "        return 17\n",
    "    elif str == \"Italy\":\n",
    "        return 18\n",
    "    elif str == \"Kuwait\":\n",
    "        return 19\n",
    "    elif str == \"Japan\":\n",
    "        return 20\n",
    "    elif str == \"Lebanon\":\n",
    "        return 21\n",
    "    elif str == \"Malaysia\":\n",
    "        return 22\n",
    "    elif str == \"Nepal\":\n",
    "        return 23\n",
    "    elif str == \"Phillipines\":\n",
    "        return 24\n",
    "    elif str == \"Russia\":\n",
    "        return 25\n",
    "    elif str == \"Singapore\":\n",
    "        return 26\n",
    "    elif str == \"Spain\":\n",
    "        return 27\n",
    "    elif str == \"Sri Lanka\":\n",
    "        return 28\n",
    "    elif str == \"South Korea\":\n",
    "        return 29\n",
    "    elif str == \"Switzerland\":\n",
    "        return 30\n",
    "    elif str == \"Taiwan\":\n",
    "        return 31\n",
    "    elif str == \"Thailand\":\n",
    "        return 32\n",
    "    elif str == \"UAE\":\n",
    "        return 33\n",
    "    elif str == \"UK\":\n",
    "        return 34\n",
    "    elif str == \"USA\":\n",
    "        return 35\n",
    "    elif str == \"Finland\":\n",
    "        return 36\n",
    "    else:\n",
    "        return 37"
   ]
  },
  {
   "cell_type": "code",
   "execution_count": 9,
   "metadata": {},
   "outputs": [],
   "source": [
    "df[\"country\"] = df[\"country\"].apply(location)"
   ]
  },
  {
   "cell_type": "markdown",
   "metadata": {},
   "source": [
    "# Data Analysis"
   ]
  },
  {
   "cell_type": "markdown",
   "metadata": {},
   "source": [
    "#### Distribution by location"
   ]
  },
  {
   "cell_type": "code",
   "execution_count": 10,
   "metadata": {},
   "outputs": [
    {
     "name": "stdout",
     "output_type": "stream",
     "text": [
      "[ 1  2  3  4  5  6  7  8  9 10 11 12 13 14 15 16 17 18 19 20 21 22 23 24\n",
      " 25 26 27 28 29 30 31 32 33 34 35 36 37]\n"
     ]
    }
   ],
   "source": [
    "locs = np.array(df.country)\n",
    "print(np.unique(locs))\n",
    "# 38 different Locations"
   ]
  },
  {
   "cell_type": "markdown",
   "metadata": {},
   "source": [
    "#### Age"
   ]
  },
  {
   "cell_type": "code",
   "execution_count": 11,
   "metadata": {},
   "outputs": [
    {
     "data": {
      "text/plain": [
       "Text(0, 0.5, 'Age')"
      ]
     },
     "execution_count": 11,
     "metadata": {},
     "output_type": "execute_result"
    },
    {
     "data": {
      "image/png": "[encoded data removed]",
      "text/plain": [
       "<Figure size 1944x432 with 1 Axes>"
      ]
     },
     "metadata": {
      "needs_background": "light"
     },
     "output_type": "display_data"
    }
   ],
   "source": [
    "a = [30 for i in range(100)]\n",
    "b = [20 for i in range(100)]\n",
    "c = [60 for i in range(100)]\n",
    "plt.figure(figsize=(27,6))\n",
    "\n",
    "plt.title(\"Distribution of Age for first 100 patients.\")\n",
    "sns.barplot(x=df.index[:100], y=df['age'][:100])\n",
    "\n",
    "plt.plot(a)\n",
    "plt.plot(b)\n",
    "plt.plot(c)\n",
    "plt.ylabel(\"Age\")"
   ]
  },
  {
   "cell_type": "markdown",
   "metadata": {},
   "source": [
    "#### Gender"
   ]
  },
  {
   "cell_type": "code",
   "execution_count": 12,
   "metadata": {},
   "outputs": [
    {
     "data": {
      "text/plain": [
       "Text(0, 0.5, 'Age')"
      ]
     },
     "execution_count": 12,
     "metadata": {},
     "output_type": "execute_result"
    },
    {
     "data": {
      "image/png": "[encoded data removed]",
      "text/plain": [
       "<Figure size 1080x216 with 1 Axes>"
      ]
     },
     "metadata": {
      "needs_background": "light"
     },
     "output_type": "display_data"
    }
   ],
   "source": [
    "plt.figure(figsize=(15,3))\n",
    "\n",
    "plt.title(\"Distribution of Gender for first 50 patients.\")\n",
    "sns.barplot(x=df.index[:50], y=df['gender'][:50])\n",
    "\n",
    "plt.ylabel(\"Age\")"
   ]
  },
  {
   "cell_type": "code",
   "execution_count": 13,
   "metadata": {},
   "outputs": [],
   "source": [
    "del df[\"exposure_end\"]\n",
    "del df[\"exposure_start\"]"
   ]
  },
  {
   "cell_type": "code",
   "execution_count": 14,
   "metadata": {},
   "outputs": [],
   "source": [
    "del df[\"symptom_onset\"]"
   ]
  },
  {
   "cell_type": "markdown",
   "metadata": {},
   "source": [
    "#### Dates"
   ]
  },
  {
   "cell_type": "code",
   "execution_count": 15,
   "metadata": {},
   "outputs": [],
   "source": [
    "df[\"reporting date\"].fillna(\"1/21/2020\", inplace = True)"
   ]
  },
  {
   "cell_type": "code",
   "execution_count": 16,
   "metadata": {},
   "outputs": [],
   "source": [
    "def dates(a):\n",
    "    li = a.split('/')\n",
    "    x1 = float(li[0])\n",
    "    x2 = float(li[1])\n",
    "    ans = (x1 * (x2 ** 2)) ** 0.5\n",
    "    return ans"
   ]
  },
  {
   "cell_type": "code",
   "execution_count": 17,
   "metadata": {},
   "outputs": [],
   "source": [
    "df['reporting date']= df['reporting date'].apply(dates)"
   ]
  },
  {
   "cell_type": "markdown",
   "metadata": {},
   "source": [
    "#### Is Wuhan a Factor? (FOR CHINESE CITIZENS)"
   ]
  },
  {
   "cell_type": "code",
   "execution_count": 18,
   "metadata": {},
   "outputs": [
    {
     "data": {
      "text/plain": [
       "Text(0, 0.5, '1 : Visited Wuhan')"
      ]
     },
     "execution_count": 18,
     "metadata": {},
     "output_type": "execute_result"
    },
    {
     "data": {
      "image/png": "[encoded data removed]",
      "text/plain": [
       "<Figure size 1440x288 with 1 Axes>"
      ]
     },
     "metadata": {
      "needs_background": "light"
     },
     "output_type": "display_data"
    }
   ],
   "source": [
    "plt.figure(figsize=(20,4))\n",
    "\n",
    "plt.title(\"Patients who visited Wuhan and are infected\")\n",
    "sns.barplot(x=df.index[:50], y=df['visiting Wuhan'][:50])\n",
    "\n",
    "plt.ylabel(\"1 : Visited Wuhan\")"
   ]
  },
  {
   "cell_type": "code",
   "execution_count": 19,
   "metadata": {},
   "outputs": [
    {
     "data": {
      "text/plain": [
       "Text(0, 0.5, '1 : From Wuhan')"
      ]
     },
     "execution_count": 19,
     "metadata": {},
     "output_type": "execute_result"
    },
    {
     "data": {
      "image/png": "[encoded data removed]",
      "text/plain": [
       "<Figure size 1440x288 with 1 Axes>"
      ]
     },
     "metadata": {
      "needs_background": "light"
     },
     "output_type": "display_data"
    }
   ],
   "source": [
    "plt.figure(figsize=(20,4))\n",
    "\n",
    "plt.title(\"Patients who are from Wuhan and are infected\")\n",
    "sns.barplot(x=df.index[:50], y=df['from Wuhan'][:50])\n",
    "\n",
    "plt.ylabel(\"1 : From Wuhan\")"
   ]
  },
  {
   "cell_type": "markdown",
   "metadata": {},
   "source": [
    "#### Result of Data Analysis:\n",
    "\n",
    "1. Patients are usually between the age group 37 and above.\n",
    "2. Patients below 15 years old are consisted of non-existent or minimal cases.\n",
    "3. For unknown reason, females are more widely infected.\n",
    "4. For Chinese residents, being from Wuhan or visiting it is a big factor."
   ]
  },
  {
   "cell_type": "markdown",
   "metadata": {},
   "source": [
    "# Final Preperation of Data"
   ]
  },
  {
   "cell_type": "code",
   "execution_count": 20,
   "metadata": {},
   "outputs": [
    {
     "data": {
      "text/html": [
       "<div>\n",
       "<style scoped>\n",
       "    .dataframe tbody tr th:only-of-type {\n",
       "        vertical-align: middle;\n",
       "    }\n",
       "\n",
       "    .dataframe tbody tr th {\n",
       "        vertical-align: top;\n",
       "    }\n",
       "\n",
       "    .dataframe thead th {\n",
       "        text-align: right;\n",
       "    }\n",
       "</style>\n",
       "<table border=\"1\" class=\"dataframe\">\n",
       "  <thead>\n",
       "    <tr style=\"text-align: right;\">\n",
       "      <th></th>\n",
       "      <th>id</th>\n",
       "      <th>reporting date</th>\n",
       "      <th>country</th>\n",
       "      <th>gender</th>\n",
       "      <th>age</th>\n",
       "      <th>visiting Wuhan</th>\n",
       "      <th>from Wuhan</th>\n",
       "      <th>death</th>\n",
       "      <th>recovered</th>\n",
       "    </tr>\n",
       "  </thead>\n",
       "  <tbody>\n",
       "    <tr>\n",
       "      <th>0</th>\n",
       "      <td>1</td>\n",
       "      <td>20.0</td>\n",
       "      <td>9</td>\n",
       "      <td>1</td>\n",
       "      <td>66.0</td>\n",
       "      <td>1</td>\n",
       "      <td>0.0</td>\n",
       "      <td>0</td>\n",
       "      <td>0</td>\n",
       "    </tr>\n",
       "    <tr>\n",
       "      <th>1</th>\n",
       "      <td>2</td>\n",
       "      <td>20.0</td>\n",
       "      <td>9</td>\n",
       "      <td>2</td>\n",
       "      <td>56.0</td>\n",
       "      <td>0</td>\n",
       "      <td>1.0</td>\n",
       "      <td>0</td>\n",
       "      <td>0</td>\n",
       "    </tr>\n",
       "    <tr>\n",
       "      <th>2</th>\n",
       "      <td>3</td>\n",
       "      <td>21.0</td>\n",
       "      <td>9</td>\n",
       "      <td>1</td>\n",
       "      <td>46.0</td>\n",
       "      <td>0</td>\n",
       "      <td>1.0</td>\n",
       "      <td>0</td>\n",
       "      <td>0</td>\n",
       "    </tr>\n",
       "    <tr>\n",
       "      <th>3</th>\n",
       "      <td>4</td>\n",
       "      <td>21.0</td>\n",
       "      <td>9</td>\n",
       "      <td>2</td>\n",
       "      <td>60.0</td>\n",
       "      <td>1</td>\n",
       "      <td>0.0</td>\n",
       "      <td>0</td>\n",
       "      <td>0</td>\n",
       "    </tr>\n",
       "    <tr>\n",
       "      <th>4</th>\n",
       "      <td>5</td>\n",
       "      <td>21.0</td>\n",
       "      <td>9</td>\n",
       "      <td>1</td>\n",
       "      <td>58.0</td>\n",
       "      <td>0</td>\n",
       "      <td>0.0</td>\n",
       "      <td>0</td>\n",
       "      <td>0</td>\n",
       "    </tr>\n",
       "  </tbody>\n",
       "</table>\n",
       "</div>"
      ],
      "text/plain": [
       "   id  reporting date  country  gender   age  visiting Wuhan  from Wuhan  \\\n",
       "0   1            20.0        9       1  66.0               1         0.0   \n",
       "1   2            20.0        9       2  56.0               0         1.0   \n",
       "2   3            21.0        9       1  46.0               0         1.0   \n",
       "3   4            21.0        9       2  60.0               1         0.0   \n",
       "4   5            21.0        9       1  58.0               0         0.0   \n",
       "\n",
       "  death recovered  \n",
       "0     0         0  \n",
       "1     0         0  \n",
       "2     0         0  \n",
       "3     0         0  \n",
       "4     0         0  "
      ]
     },
     "execution_count": 20,
     "metadata": {},
     "output_type": "execute_result"
    }
   ],
   "source": [
    "df.reset_index(inplace = True) \n",
    "df.head()"
   ]
  },
  {
   "cell_type": "code",
   "execution_count": 21,
   "metadata": {},
   "outputs": [],
   "source": [
    "del df[\"id\"]"
   ]
  },
  {
   "cell_type": "code",
   "execution_count": 22,
   "metadata": {},
   "outputs": [],
   "source": [
    "df[\"reporting date\"].fillna(0, inplace = True)\n",
    "df[\"country\"].fillna(9, inplace = True)\n",
    "df[\"age\"].fillna(45, inplace = True)\n",
    "df[\"from Wuhan\"].fillna(1, inplace = True)\n",
    "df[\"visiting Wuhan\"].fillna(1, inplace = True)\n",
    "df[\"death\"].fillna(1, inplace = True)\n",
    "df[\"recovered\"].fillna(1, inplace = True)"
   ]
  },
  {
   "cell_type": "code",
   "execution_count": 23,
   "metadata": {},
   "outputs": [],
   "source": [
    "df[\"Age_Gender\"] = df[\"age\"]*df[\"gender\"]"
   ]
  },
  {
   "cell_type": "code",
   "execution_count": 24,
   "metadata": {},
   "outputs": [
    {
     "data": {
      "text/html": [
       "<div>\n",
       "<style scoped>\n",
       "    .dataframe tbody tr th:only-of-type {\n",
       "        vertical-align: middle;\n",
       "    }\n",
       "\n",
       "    .dataframe tbody tr th {\n",
       "        vertical-align: top;\n",
       "    }\n",
       "\n",
       "    .dataframe thead th {\n",
       "        text-align: right;\n",
       "    }\n",
       "</style>\n",
       "<table border=\"1\" class=\"dataframe\">\n",
       "  <thead>\n",
       "    <tr style=\"text-align: right;\">\n",
       "      <th></th>\n",
       "      <th>reporting date</th>\n",
       "      <th>country</th>\n",
       "      <th>gender</th>\n",
       "      <th>age</th>\n",
       "      <th>visiting Wuhan</th>\n",
       "      <th>from Wuhan</th>\n",
       "      <th>death</th>\n",
       "      <th>recovered</th>\n",
       "      <th>Age_Gender</th>\n",
       "    </tr>\n",
       "  </thead>\n",
       "  <tbody>\n",
       "    <tr>\n",
       "      <th>0</th>\n",
       "      <td>20.0</td>\n",
       "      <td>9</td>\n",
       "      <td>1</td>\n",
       "      <td>66.0</td>\n",
       "      <td>1</td>\n",
       "      <td>0.0</td>\n",
       "      <td>0</td>\n",
       "      <td>0</td>\n",
       "      <td>66.0</td>\n",
       "    </tr>\n",
       "    <tr>\n",
       "      <th>1</th>\n",
       "      <td>20.0</td>\n",
       "      <td>9</td>\n",
       "      <td>2</td>\n",
       "      <td>56.0</td>\n",
       "      <td>0</td>\n",
       "      <td>1.0</td>\n",
       "      <td>0</td>\n",
       "      <td>0</td>\n",
       "      <td>112.0</td>\n",
       "    </tr>\n",
       "    <tr>\n",
       "      <th>2</th>\n",
       "      <td>21.0</td>\n",
       "      <td>9</td>\n",
       "      <td>1</td>\n",
       "      <td>46.0</td>\n",
       "      <td>0</td>\n",
       "      <td>1.0</td>\n",
       "      <td>0</td>\n",
       "      <td>0</td>\n",
       "      <td>46.0</td>\n",
       "    </tr>\n",
       "    <tr>\n",
       "      <th>3</th>\n",
       "      <td>21.0</td>\n",
       "      <td>9</td>\n",
       "      <td>2</td>\n",
       "      <td>60.0</td>\n",
       "      <td>1</td>\n",
       "      <td>0.0</td>\n",
       "      <td>0</td>\n",
       "      <td>0</td>\n",
       "      <td>120.0</td>\n",
       "    </tr>\n",
       "    <tr>\n",
       "      <th>4</th>\n",
       "      <td>21.0</td>\n",
       "      <td>9</td>\n",
       "      <td>1</td>\n",
       "      <td>58.0</td>\n",
       "      <td>0</td>\n",
       "      <td>0.0</td>\n",
       "      <td>0</td>\n",
       "      <td>0</td>\n",
       "      <td>58.0</td>\n",
       "    </tr>\n",
       "  </tbody>\n",
       "</table>\n",
       "</div>"
      ],
      "text/plain": [
       "   reporting date  country  gender   age  visiting Wuhan  from Wuhan death  \\\n",
       "0            20.0        9       1  66.0               1         0.0     0   \n",
       "1            20.0        9       2  56.0               0         1.0     0   \n",
       "2            21.0        9       1  46.0               0         1.0     0   \n",
       "3            21.0        9       2  60.0               1         0.0     0   \n",
       "4            21.0        9       1  58.0               0         0.0     0   \n",
       "\n",
       "  recovered  Age_Gender  \n",
       "0         0        66.0  \n",
       "1         0       112.0  \n",
       "2         0        46.0  \n",
       "3         0       120.0  \n",
       "4         0        58.0  "
      ]
     },
     "execution_count": 24,
     "metadata": {},
     "output_type": "execute_result"
    }
   ],
   "source": [
    "df.head()"
   ]
  },
  {
   "cell_type": "code",
   "execution_count": 25,
   "metadata": {},
   "outputs": [],
   "source": [
    "def change(str):\n",
    "    if str == '0':\n",
    "        return 0\n",
    "    elif str == '1':\n",
    "        return 1\n",
    "    else:\n",
    "        return 1"
   ]
  },
  {
   "cell_type": "code",
   "execution_count": 26,
   "metadata": {},
   "outputs": [],
   "source": [
    "df[\"death\"] = df[\"death\"].apply(change)"
   ]
  },
  {
   "cell_type": "code",
   "execution_count": 27,
   "metadata": {},
   "outputs": [],
   "source": [
    "df[\"recovered\"] = df[\"recovered\"].apply(change)"
   ]
  },
  {
   "cell_type": "code",
   "execution_count": 28,
   "metadata": {},
   "outputs": [],
   "source": [
    "Y1 = df[\"death\"]\n",
    "Y2 = df[\"recovered\"]\n",
    "del df[\"death\"]\n",
    "del df[\"recovered\"]"
   ]
  },
  {
   "cell_type": "code",
   "execution_count": 29,
   "metadata": {},
   "outputs": [],
   "source": [
    "Y1 = np.array(Y1)\n",
    "Y2 = np.array(Y2)\n",
    "\n",
    "# for i in range(len(Y1)):\n",
    "#     if type(Y1[i] == str):\n",
    "#         Y1[i] = 1\n",
    "        \n",
    "# for i in range(len(Y2)):\n",
    "#     if type(Y2[i] == str):\n",
    "#         Y2[i] = 1"
   ]
  },
  {
   "cell_type": "code",
   "execution_count": 30,
   "metadata": {},
   "outputs": [],
   "source": [
    "X = df.values"
   ]
  },
  {
   "cell_type": "code",
   "execution_count": 31,
   "metadata": {},
   "outputs": [],
   "source": [
    "X_train1, X_test1, Y_train1, Y_test1 = train_test_split(X, Y1)\n",
    "X_train2, X_test2, Y_train2, Y_test2 = train_test_split(X, Y2)"
   ]
  },
  {
   "cell_type": "code",
   "execution_count": 32,
   "metadata": {},
   "outputs": [],
   "source": [
    "scaler = MinMaxScaler(feature_range=(0,1))\n",
    "X_train1 = scaler.fit_transform(X_train1)\n",
    "X_test1 = scaler.transform(X_test1)\n",
    "\n",
    "X_train2 = scaler.fit_transform(X_train2)\n",
    "X_test2 = scaler.transform(X_test2)"
   ]
  },
  {
   "cell_type": "markdown",
   "metadata": {},
   "source": [
    "# Classification of Deaths"
   ]
  },
  {
   "cell_type": "code",
   "execution_count": 33,
   "metadata": {},
   "outputs": [],
   "source": [
    "from tensorflow.keras.models import Sequential\n",
    "from tensorflow.keras.layers import Conv2D, Flatten, Dense, MaxPool2D, Dropout\n",
    "from tensorflow.keras.utils import to_categorical  "
   ]
  },
  {
   "cell_type": "code",
   "execution_count": 52,
   "metadata": {},
   "outputs": [],
   "source": [
    "model = Sequential()"
   ]
  },
  {
   "cell_type": "code",
   "execution_count": 53,
   "metadata": {},
   "outputs": [],
   "source": [
    "model.add(Dense(32, activation = \"relu\"))\n",
    "model.add(Dense(64, activation = \"relu\"))\n",
    "model.add(Dense(128, activation = \"relu\"))\n",
    "# model.add(Dense(512, activation = \"relu\"))\n",
    "model.add(Dense(1, activation = \"sigmoid\"))"
   ]
  },
  {
   "cell_type": "code",
   "execution_count": 54,
   "metadata": {},
   "outputs": [],
   "source": [
    "model.compile(optimizer = 'adadelta', loss = 'binary_crossentropy', metrics = ['accuracy'])"
   ]
  },
  {
   "cell_type": "code",
   "execution_count": null,
   "metadata": {},
   "outputs": [
    {
     "name": "stdout",
     "output_type": "stream",
     "text": [
      "Epoch 1/50\n",
      "813/813 [==============================] - 0s 459us/sample - loss: 0.7541 - acc: 0.0627\n",
      "Epoch 2/50\n",
      "813/813 [==============================] - 0s 238us/sample - loss: 0.7483 - acc: 0.0627\n",
      "Epoch 3/50\n",
      "  5/813 [..............................] - ETA: 0s - loss: 0.7559 - acc: 0.0000e+00"
     ]
    }
   ],
   "source": [
    "model.fit(X_train1, Y_train1, epochs = 50, batch_size = 5)"
   ]
  },
  {
   "cell_type": "code",
   "execution_count": 42,
   "metadata": {},
   "outputs": [
    {
     "name": "stdout",
     "output_type": "stream",
     "text": [
      "272/272 [==============================] - 0s 249us/sample - loss: 0.1831 - acc: 0.9559\n",
      "[0.18310487095047445, 0.9558824]\n"
     ]
    }
   ],
   "source": [
    "predictions = model.predict(X_test1)\n",
    "score = model.evaluate(X_test1, Y_test1)\n",
    "print(score)"
   ]
  },
  {
   "cell_type": "markdown",
   "metadata": {},
   "source": [
    "# Classification of Recovery"
   ]
  },
  {
   "cell_type": "code",
   "execution_count": 387,
   "metadata": {},
   "outputs": [
    {
     "name": "stdout",
     "output_type": "stream",
     "text": [
      "Epoch 1/50\n",
      "813/813 [==============================] - 0s 314us/sample - loss: 2.3337 - acc: 0.8487\n",
      "Epoch 2/50\n",
      "813/813 [==============================] - 0s 319us/sample - loss: 2.3337 - acc: 0.8487\n",
      "Epoch 3/50\n",
      "813/813 [==============================] - 0s 284us/sample - loss: 2.3337 - acc: 0.8487\n",
      "Epoch 4/50\n",
      "813/813 [==============================] - 0s 290us/sample - loss: 2.3337 - acc: 0.8487\n",
      "Epoch 5/50\n",
      "813/813 [==============================] - 0s 314us/sample - loss: 2.3337 - acc: 0.8487\n",
      "Epoch 6/50\n",
      "813/813 [==============================] - 0s 319us/sample - loss: 2.3337 - acc: 0.8487\n",
      "Epoch 7/50\n",
      "813/813 [==============================] - 0s 294us/sample - loss: 2.3337 - acc: 0.8487\n",
      "Epoch 8/50\n",
      "813/813 [==============================] - 0s 313us/sample - loss: 2.3337 - acc: 0.8487\n",
      "Epoch 9/50\n",
      "813/813 [==============================] - 0s 294us/sample - loss: 2.3337 - acc: 0.8487\n",
      "Epoch 10/50\n",
      "813/813 [==============================] - 0s 295us/sample - loss: 2.3337 - acc: 0.8487\n",
      "Epoch 11/50\n",
      "813/813 [==============================] - 0s 287us/sample - loss: 2.3337 - acc: 0.8487\n",
      "Epoch 12/50\n",
      "813/813 [==============================] - 0s 278us/sample - loss: 2.3337 - acc: 0.8487\n",
      "Epoch 13/50\n",
      "813/813 [==============================] - 0s 332us/sample - loss: 2.3337 - acc: 0.8487\n",
      "Epoch 14/50\n",
      "813/813 [==============================] - 0s 325us/sample - loss: 2.3337 - acc: 0.8487\n",
      "Epoch 15/50\n",
      "813/813 [==============================] - 0s 333us/sample - loss: 2.3337 - acc: 0.8487\n",
      "Epoch 16/50\n",
      "813/813 [==============================] - 0s 303us/sample - loss: 2.3337 - acc: 0.8487\n",
      "Epoch 17/50\n",
      "813/813 [==============================] - 0s 297us/sample - loss: 2.3337 - acc: 0.8487\n",
      "Epoch 18/50\n",
      "813/813 [==============================] - 0s 285us/sample - loss: 2.3337 - acc: 0.8487\n",
      "Epoch 19/50\n",
      "813/813 [==============================] - 0s 291us/sample - loss: 2.3337 - acc: 0.8487\n",
      "Epoch 20/50\n",
      "813/813 [==============================] - 0s 274us/sample - loss: 2.3337 - acc: 0.8487\n",
      "Epoch 21/50\n",
      "813/813 [==============================] - 0s 288us/sample - loss: 2.3337 - acc: 0.8487\n",
      "Epoch 22/50\n",
      "813/813 [==============================] - 0s 291us/sample - loss: 2.3337 - acc: 0.8487\n",
      "Epoch 23/50\n",
      "813/813 [==============================] - 0s 284us/sample - loss: 2.3337 - acc: 0.8487\n",
      "Epoch 24/50\n",
      "813/813 [==============================] - 0s 288us/sample - loss: 2.3337 - acc: 0.8487\n",
      "Epoch 25/50\n",
      "813/813 [==============================] - 0s 291us/sample - loss: 2.3337 - acc: 0.8487\n",
      "Epoch 26/50\n",
      "813/813 [==============================] - 0s 280us/sample - loss: 2.3337 - acc: 0.8487\n",
      "Epoch 27/50\n",
      "813/813 [==============================] - 0s 274us/sample - loss: 2.3337 - acc: 0.8487\n",
      "Epoch 28/50\n",
      "813/813 [==============================] - 0s 288us/sample - loss: 2.3337 - acc: 0.8487\n",
      "Epoch 29/50\n",
      "813/813 [==============================] - 0s 264us/sample - loss: 2.3337 - acc: 0.8487\n",
      "Epoch 30/50\n",
      "813/813 [==============================] - 0s 247us/sample - loss: 2.3337 - acc: 0.8487\n",
      "Epoch 31/50\n",
      "813/813 [==============================] - 0s 272us/sample - loss: 2.3337 - acc: 0.8487\n",
      "Epoch 32/50\n",
      "813/813 [==============================] - 0s 249us/sample - loss: 2.3337 - acc: 0.8487\n",
      "Epoch 33/50\n",
      "813/813 [==============================] - 0s 276us/sample - loss: 2.3337 - acc: 0.8487\n",
      "Epoch 34/50\n",
      "813/813 [==============================] - 0s 294us/sample - loss: 2.3337 - acc: 0.8487\n",
      "Epoch 35/50\n",
      "813/813 [==============================] - 0s 289us/sample - loss: 2.3337 - acc: 0.8487\n",
      "Epoch 36/50\n",
      "813/813 [==============================] - 0s 285us/sample - loss: 2.3337 - acc: 0.8487\n",
      "Epoch 37/50\n",
      "813/813 [==============================] - 0s 284us/sample - loss: 2.3337 - acc: 0.8487\n",
      "Epoch 38/50\n",
      "813/813 [==============================] - 0s 263us/sample - loss: 2.3337 - acc: 0.8487\n",
      "Epoch 39/50\n",
      "813/813 [==============================] - 0s 270us/sample - loss: 2.3337 - acc: 0.8487\n",
      "Epoch 40/50\n",
      "813/813 [==============================] - 0s 276us/sample - loss: 2.3337 - acc: 0.8487\n",
      "Epoch 41/50\n",
      "813/813 [==============================] - 0s 260us/sample - loss: 2.3337 - acc: 0.8487\n",
      "Epoch 42/50\n",
      "813/813 [==============================] - 0s 280us/sample - loss: 2.3337 - acc: 0.8487\n",
      "Epoch 43/50\n",
      "813/813 [==============================] - 0s 282us/sample - loss: 2.3337 - acc: 0.8487\n",
      "Epoch 44/50\n",
      "813/813 [==============================] - 0s 287us/sample - loss: 2.3337 - acc: 0.8487\n",
      "Epoch 45/50\n",
      "813/813 [==============================] - 0s 252us/sample - loss: 2.3337 - acc: 0.8487\n",
      "Epoch 46/50\n",
      "813/813 [==============================] - 0s 282us/sample - loss: 2.3337 - acc: 0.8487\n",
      "Epoch 47/50\n",
      "813/813 [==============================] - 0s 259us/sample - loss: 2.3337 - acc: 0.8487\n",
      "Epoch 48/50\n",
      "813/813 [==============================] - 0s 275us/sample - loss: 2.3337 - acc: 0.8487\n",
      "Epoch 49/50\n",
      "813/813 [==============================] - 0s 283us/sample - loss: 2.3337 - acc: 0.8487\n",
      "Epoch 50/50\n",
      "813/813 [==============================] - 0s 243us/sample - loss: 2.3337 - acc: 0.8487\n"
     ]
    },
    {
     "data": {
      "text/plain": [
       "<tensorflow.python.keras.callbacks.History at 0x27cbae397f0>"
      ]
     },
     "execution_count": 387,
     "metadata": {},
     "output_type": "execute_result"
    }
   ],
   "source": [
    "model.fit(X_train1, Y_train2, epochs = 50, batch_size = 10)"
   ]
  },
  {
   "cell_type": "code",
   "execution_count": 388,
   "metadata": {},
   "outputs": [
    {
     "name": "stdout",
     "output_type": "stream",
     "text": [
      "272/272 [==============================] - 0s 54us/sample - loss: 2.0415 - acc: 0.8676\n",
      "[2.0415372988756966, 0.86764705]\n"
     ]
    }
   ],
   "source": [
    "predictions2 = model.predict(X_test2)\n",
    "score2 = model.evaluate(X_test2, Y_test2)\n",
    "print(score2)"
   ]
  },
  {
   "cell_type": "markdown",
   "metadata": {},
   "source": [
    "# Result"
   ]
  },
  {
   "cell_type": "markdown",
   "metadata": {},
   "source": [
    "#### Using given features and adding one extra feature:\n",
    "\n",
    "1. Prediction of death can be made with 94% accuracy.\n",
    "2. Prediction of recovery can be made with 86.7% accuracy."
   ]
  }
 ],
 "metadata": {
  "kernelspec": {
   "display_name": "Python 3",
   "language": "python",
   "name": "python3"
  },
  "language_info": {
   "codemirror_mode": {
    "name": "ipython",
    "version": 3
   },
   "file_extension": ".py",
   "mimetype": "text/x-python",
   "name": "python",
   "nbconvert_exporter": "python",
   "pygments_lexer": "ipython3",
   "version": "3.7.3"
  }
 },
 "nbformat": 4,
 "nbformat_minor": 2
}
